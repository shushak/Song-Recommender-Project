{
 "cells": [
  {
   "cell_type": "code",
   "execution_count": 57,
   "id": "9f62a446",
   "metadata": {},
   "outputs": [],
   "source": [
    "import numpy as np\n",
    "import pandas as pd\n",
    "import spotipy as sp\n",
    "import config\n",
    "from time import sleep\n",
    "from random import randint\n",
    "import spotipy\n",
    "import json\n",
    "from spotipy.oauth2 import SpotifyClientCredentials\n",
    "import random \n",
    "import pickle\n",
    "from sklearn import datasets # sklearn comes with some toy datasets to practise\n",
    "from sklearn.preprocessing import StandardScaler\n",
    "from sklearn.cluster import KMeans\n",
    "from matplotlib import pyplot\n",
    "from sklearn.metrics import silhouette_score"
   ]
  },
  {
   "cell_type": "code",
   "execution_count": 58,
   "id": "c40004e5",
   "metadata": {},
   "outputs": [],
   "source": [
    "def load(filename = \"filename.pickle\"): \n",
    "    try: \n",
    "        with open(filename, \"rb\") as f: \n",
    "            return pickle.load(f) \n",
    "    except FileNotFoundError: \n",
    "        print(\"File not found!\")"
   ]
  },
  {
   "cell_type": "code",
   "execution_count": 59,
   "id": "cf50f2ff",
   "metadata": {},
   "outputs": [
    {
     "name": "stderr",
     "output_type": "stream",
     "text": [
      "C:\\Users\\merce\\anaconda3\\envs\\Da_Env1\\lib\\site-packages\\sklearn\\base.py:310: UserWarning: Trying to unpickle estimator StandardScaler from version 0.24.1 when using version 0.24.2. This might lead to breaking code or invalid results. Use at your own risk.\n",
      "  warnings.warn(\n"
     ]
    },
    {
     "data": {
      "text/plain": [
       "StandardScaler()"
      ]
     },
     "execution_count": 59,
     "metadata": {},
     "output_type": "execute_result"
    }
   ],
   "source": [
    "scaler2 = load(\"Model/scaler.pickle\")\n",
    "scaler2"
   ]
  },
  {
   "cell_type": "code",
   "execution_count": 60,
   "id": "2c4edfc7",
   "metadata": {},
   "outputs": [
    {
     "name": "stderr",
     "output_type": "stream",
     "text": [
      "C:\\Users\\merce\\anaconda3\\envs\\Da_Env1\\lib\\site-packages\\sklearn\\base.py:310: UserWarning: Trying to unpickle estimator KMeans from version 0.24.1 when using version 0.24.2. This might lead to breaking code or invalid results. Use at your own risk.\n",
      "  warnings.warn(\n"
     ]
    },
    {
     "data": {
      "text/plain": [
       "KMeans(n_clusters=20, random_state=1234)"
      ]
     },
     "execution_count": 60,
     "metadata": {},
     "output_type": "execute_result"
    }
   ],
   "source": [
    "kmeans2 = load(\"Model/kmeans_4.pickle\")\n",
    "kmeans2"
   ]
  },
  {
   "cell_type": "markdown",
   "id": "c0677b25",
   "metadata": {},
   "source": [
    "# Loading data"
   ]
  },
  {
   "cell_type": "code",
   "execution_count": 61,
   "id": "21c386ad",
   "metadata": {},
   "outputs": [],
   "source": [
    "df=pd.read_csv(\"Data/hot100.csv\")\n",
    "clus_df=pd.read_csv(\"Data/clustered_df.csv\")\n",
    "sp = spotipy.Spotify(auth_manager=SpotifyClientCredentials(client_id=config.client_id,\n",
    "                                                           client_secret=config.client_secret))\n"
   ]
  },
  {
   "cell_type": "markdown",
   "id": "78954a00",
   "metadata": {},
   "source": [
    "# Connect with Spotify"
   ]
  },
  {
   "cell_type": "code",
   "execution_count": 62,
   "id": "61764db6",
   "metadata": {},
   "outputs": [
    {
     "data": {
      "text/plain": [
       "{'danceability': 0.392,\n",
       " 'energy': 0.402,\n",
       " 'key': 0,\n",
       " 'loudness': -9.961,\n",
       " 'mode': 0,\n",
       " 'speechiness': 0.0536,\n",
       " 'acousticness': 0.288,\n",
       " 'instrumentalness': 0,\n",
       " 'liveness': 0.243,\n",
       " 'valence': 0.228,\n",
       " 'tempo': 143.883,\n",
       " 'type': 'audio_features',\n",
       " 'id': '7tFiyTwD0nx5a1eklYtX2J',\n",
       " 'uri': 'spotify:track:7tFiyTwD0nx5a1eklYtX2J',\n",
       " 'track_href': 'https://api.spotify.com/v1/tracks/7tFiyTwD0nx5a1eklYtX2J',\n",
       " 'analysis_url': 'https://api.spotify.com/v1/audio-analysis/7tFiyTwD0nx5a1eklYtX2J',\n",
       " 'duration_ms': 354320,\n",
       " 'time_signature': 4}"
      ]
     },
     "execution_count": 62,
     "metadata": {},
     "output_type": "execute_result"
    }
   ],
   "source": [
    "# Conect with Spotify in order to get the most important features of a song: \n",
    "#def spotify_search():\n",
    "\n",
    "song = sp.search(q=\"Bohemian Rhapsody\", limit=1) \n",
    "#pprint.pprint(song['tracks']['items'][0]['uri'])\n",
    "#song[\"tracks\"][\"items\"][0][\"uri\"]\n",
    "sp.audio_features(song[\"tracks\"][\"items\"][0][\"uri\"])[0]"
   ]
  },
  {
   "cell_type": "code",
   "execution_count": 63,
   "id": "a50212d3",
   "metadata": {},
   "outputs": [],
   "source": [
    "#def spotify_search():\n",
    "song = sp.search(q=\"hello\", limit=1)\n",
    "features=sp.audio_features(song[\"tracks\"][\"items\"][0][\"uri\"])[0]\n",
    "\n",
    "    "
   ]
  },
  {
   "cell_type": "code",
   "execution_count": 64,
   "id": "454f2bcf",
   "metadata": {},
   "outputs": [
    {
     "data": {
      "text/plain": [
       "{'danceability': 0.578,\n",
       " 'energy': 0.43,\n",
       " 'key': 5,\n",
       " 'loudness': -6.134,\n",
       " 'mode': 0,\n",
       " 'speechiness': 0.0305,\n",
       " 'acousticness': 0.33,\n",
       " 'instrumentalness': 0,\n",
       " 'liveness': 0.0854,\n",
       " 'valence': 0.288,\n",
       " 'tempo': 78.991,\n",
       " 'type': 'audio_features',\n",
       " 'id': '62PaSfnXSMyLshYJrlTuL3',\n",
       " 'uri': 'spotify:track:62PaSfnXSMyLshYJrlTuL3',\n",
       " 'track_href': 'https://api.spotify.com/v1/tracks/62PaSfnXSMyLshYJrlTuL3',\n",
       " 'analysis_url': 'https://api.spotify.com/v1/audio-analysis/62PaSfnXSMyLshYJrlTuL3',\n",
       " 'duration_ms': 295502,\n",
       " 'time_signature': 4}"
      ]
     },
     "execution_count": 64,
     "metadata": {},
     "output_type": "execute_result"
    }
   ],
   "source": [
    "features"
   ]
  },
  {
   "cell_type": "code",
   "execution_count": 65,
   "id": "7875683b",
   "metadata": {},
   "outputs": [
    {
     "data": {
      "text/plain": [
       "dict"
      ]
     },
     "execution_count": 65,
     "metadata": {},
     "output_type": "execute_result"
    }
   ],
   "source": [
    "type(features)"
   ]
  },
  {
   "cell_type": "code",
   "execution_count": 66,
   "id": "ba54f625",
   "metadata": {},
   "outputs": [
    {
     "name": "stdout",
     "output_type": "stream",
     "text": [
      "{'danceability': 0.578, 'energy': 0.43, 'key': 5, 'loudness': -6.134, 'mode': 0, 'speechiness': 0.0305, 'acousticness': 0.33, 'instrumentalness': 0, 'liveness': 0.0854, 'valence': 0.288, 'tempo': 78.991, 'type': 'audio_features', 'id': '62PaSfnXSMyLshYJrlTuL3', 'uri': 'spotify:track:62PaSfnXSMyLshYJrlTuL3', 'track_href': 'https://api.spotify.com/v1/tracks/62PaSfnXSMyLshYJrlTuL3', 'analysis_url': 'https://api.spotify.com/v1/audio-analysis/62PaSfnXSMyLshYJrlTuL3', 'duration_ms': 295502, 'time_signature': 4}\n",
      "{'danceability': [0.578], 'energy': [0.43], 'key': [5], 'loudness': [-6.134], 'mode': [0], 'speechiness': [0.0305], 'acousticness': [0.33], 'instrumentalness': [0], 'liveness': [0.0854], 'valence': [0.288], 'tempo': [78.991], 'type': ['audio_features'], 'id': ['62PaSfnXSMyLshYJrlTuL3'], 'uri': ['spotify:track:62PaSfnXSMyLshYJrlTuL3'], 'track_href': ['https://api.spotify.com/v1/tracks/62PaSfnXSMyLshYJrlTuL3'], 'analysis_url': ['https://api.spotify.com/v1/audio-analysis/62PaSfnXSMyLshYJrlTuL3'], 'duration_ms': [295502], 'time_signature': [4]}\n"
     ]
    },
    {
     "data": {
      "text/html": [
       "<div>\n",
       "<style scoped>\n",
       "    .dataframe tbody tr th:only-of-type {\n",
       "        vertical-align: middle;\n",
       "    }\n",
       "\n",
       "    .dataframe tbody tr th {\n",
       "        vertical-align: top;\n",
       "    }\n",
       "\n",
       "    .dataframe thead th {\n",
       "        text-align: right;\n",
       "    }\n",
       "</style>\n",
       "<table border=\"1\" class=\"dataframe\">\n",
       "  <thead>\n",
       "    <tr style=\"text-align: right;\">\n",
       "      <th></th>\n",
       "      <th>danceability</th>\n",
       "      <th>energy</th>\n",
       "      <th>key</th>\n",
       "      <th>loudness</th>\n",
       "      <th>mode</th>\n",
       "      <th>speechiness</th>\n",
       "      <th>acousticness</th>\n",
       "      <th>instrumentalness</th>\n",
       "      <th>liveness</th>\n",
       "      <th>valence</th>\n",
       "      <th>tempo</th>\n",
       "      <th>type</th>\n",
       "      <th>id</th>\n",
       "      <th>uri</th>\n",
       "      <th>track_href</th>\n",
       "      <th>analysis_url</th>\n",
       "      <th>duration_ms</th>\n",
       "      <th>time_signature</th>\n",
       "    </tr>\n",
       "  </thead>\n",
       "  <tbody>\n",
       "    <tr>\n",
       "      <th>0</th>\n",
       "      <td>0.578</td>\n",
       "      <td>0.43</td>\n",
       "      <td>5</td>\n",
       "      <td>-6.134</td>\n",
       "      <td>0</td>\n",
       "      <td>0.0305</td>\n",
       "      <td>0.33</td>\n",
       "      <td>0</td>\n",
       "      <td>0.0854</td>\n",
       "      <td>0.288</td>\n",
       "      <td>78.991</td>\n",
       "      <td>audio_features</td>\n",
       "      <td>62PaSfnXSMyLshYJrlTuL3</td>\n",
       "      <td>spotify:track:62PaSfnXSMyLshYJrlTuL3</td>\n",
       "      <td>https://api.spotify.com/v1/tracks/62PaSfnXSMyL...</td>\n",
       "      <td>https://api.spotify.com/v1/audio-analysis/62Pa...</td>\n",
       "      <td>295502</td>\n",
       "      <td>4</td>\n",
       "    </tr>\n",
       "  </tbody>\n",
       "</table>\n",
       "</div>"
      ],
      "text/plain": [
       "   danceability  energy  key  loudness  mode  speechiness  acousticness  \\\n",
       "0         0.578    0.43    5    -6.134     0       0.0305          0.33   \n",
       "\n",
       "   instrumentalness  liveness  valence   tempo            type  \\\n",
       "0                 0    0.0854    0.288  78.991  audio_features   \n",
       "\n",
       "                       id                                   uri  \\\n",
       "0  62PaSfnXSMyLshYJrlTuL3  spotify:track:62PaSfnXSMyLshYJrlTuL3   \n",
       "\n",
       "                                          track_href  \\\n",
       "0  https://api.spotify.com/v1/tracks/62PaSfnXSMyL...   \n",
       "\n",
       "                                        analysis_url  duration_ms  \\\n",
       "0  https://api.spotify.com/v1/audio-analysis/62Pa...       295502   \n",
       "\n",
       "   time_signature  \n",
       "0               4  "
      ]
     },
     "execution_count": 66,
     "metadata": {},
     "output_type": "execute_result"
    }
   ],
   "source": [
    "my_dict = sp.audio_features(song[\"tracks\"][\"items\"][0][\"uri\"])[0] # you can provide a list of uri's\n",
    "\n",
    "print(my_dict)\n",
    "my_dict_new = { key: [my_dict[key]] for key in list(my_dict.keys()) }\n",
    "#my_dict_new['name'] = [song[\"tracks\"][\"items\"][0]['name']]\n",
    "print(my_dict_new)\n",
    "\n",
    "pd.DataFrame(my_dict_new)\n"
   ]
  },
  {
   "cell_type": "code",
   "execution_count": 81,
   "id": "ee1b6991",
   "metadata": {},
   "outputs": [],
   "source": [
    "Z=pd.DataFrame(my_dict_new)"
   ]
  },
  {
   "cell_type": "code",
   "execution_count": 82,
   "id": "9deeed2d",
   "metadata": {},
   "outputs": [
    {
     "name": "stdout",
     "output_type": "stream",
     "text": [
      "<class 'pandas.core.frame.DataFrame'>\n",
      "RangeIndex: 1 entries, 0 to 0\n",
      "Data columns (total 18 columns):\n",
      " #   Column            Non-Null Count  Dtype  \n",
      "---  ------            --------------  -----  \n",
      " 0   danceability      1 non-null      float64\n",
      " 1   energy            1 non-null      float64\n",
      " 2   key               1 non-null      int64  \n",
      " 3   loudness          1 non-null      float64\n",
      " 4   mode              1 non-null      int64  \n",
      " 5   speechiness       1 non-null      float64\n",
      " 6   acousticness      1 non-null      float64\n",
      " 7   instrumentalness  1 non-null      int64  \n",
      " 8   liveness          1 non-null      float64\n",
      " 9   valence           1 non-null      float64\n",
      " 10  tempo             1 non-null      float64\n",
      " 11  type              1 non-null      object \n",
      " 12  id                1 non-null      object \n",
      " 13  uri               1 non-null      object \n",
      " 14  track_href        1 non-null      object \n",
      " 15  analysis_url      1 non-null      object \n",
      " 16  duration_ms       1 non-null      int64  \n",
      " 17  time_signature    1 non-null      int64  \n",
      "dtypes: float64(8), int64(5), object(5)\n",
      "memory usage: 272.0+ bytes\n"
     ]
    }
   ],
   "source": [
    "Z.info()"
   ]
  },
  {
   "cell_type": "code",
   "execution_count": 83,
   "id": "71a2a182",
   "metadata": {},
   "outputs": [],
   "source": [
    "# We get numerical columns:\n",
    "Z=X._get_numeric_data()"
   ]
  },
  {
   "cell_type": "code",
   "execution_count": 84,
   "id": "e3855194",
   "metadata": {},
   "outputs": [
    {
     "data": {
      "text/html": [
       "<div>\n",
       "<style scoped>\n",
       "    .dataframe tbody tr th:only-of-type {\n",
       "        vertical-align: middle;\n",
       "    }\n",
       "\n",
       "    .dataframe tbody tr th {\n",
       "        vertical-align: top;\n",
       "    }\n",
       "\n",
       "    .dataframe thead th {\n",
       "        text-align: right;\n",
       "    }\n",
       "</style>\n",
       "<table border=\"1\" class=\"dataframe\">\n",
       "  <thead>\n",
       "    <tr style=\"text-align: right;\">\n",
       "      <th></th>\n",
       "      <th>danceability</th>\n",
       "      <th>energy</th>\n",
       "      <th>key</th>\n",
       "      <th>loudness</th>\n",
       "      <th>mode</th>\n",
       "      <th>speechiness</th>\n",
       "      <th>acousticness</th>\n",
       "      <th>instrumentalness</th>\n",
       "      <th>liveness</th>\n",
       "      <th>valence</th>\n",
       "      <th>tempo</th>\n",
       "      <th>duration_ms</th>\n",
       "      <th>time_signature</th>\n",
       "    </tr>\n",
       "  </thead>\n",
       "  <tbody>\n",
       "    <tr>\n",
       "      <th>0</th>\n",
       "      <td>0.578</td>\n",
       "      <td>0.43</td>\n",
       "      <td>5</td>\n",
       "      <td>-6.134</td>\n",
       "      <td>0</td>\n",
       "      <td>0.0305</td>\n",
       "      <td>0.33</td>\n",
       "      <td>0</td>\n",
       "      <td>0.0854</td>\n",
       "      <td>0.288</td>\n",
       "      <td>78.991</td>\n",
       "      <td>295502</td>\n",
       "      <td>4</td>\n",
       "    </tr>\n",
       "  </tbody>\n",
       "</table>\n",
       "</div>"
      ],
      "text/plain": [
       "   danceability  energy  key  loudness  mode  speechiness  acousticness  \\\n",
       "0         0.578    0.43    5    -6.134     0       0.0305          0.33   \n",
       "\n",
       "   instrumentalness  liveness  valence   tempo  duration_ms  time_signature  \n",
       "0                 0    0.0854    0.288  78.991       295502               4  "
      ]
     },
     "metadata": {},
     "output_type": "display_data"
    }
   ],
   "source": [
    "scaler = StandardScaler()\n",
    "scaler.fit(Z)\n",
    "Z_scaled = scaler.transform(Z)\n",
    "Z_scaled_df = pd.DataFrame(Z_scaled, columns = Z.columns)\n",
    "display(Z.head())"
   ]
  },
  {
   "cell_type": "code",
   "execution_count": 85,
   "id": "fbf9dc76",
   "metadata": {},
   "outputs": [
    {
     "ename": "AttributeError",
     "evalue": "'KMeans' object has no attribute 'cluster_centers_'",
     "output_type": "error",
     "traceback": [
      "\u001b[1;31m---------------------------------------------------------------------------\u001b[0m",
      "\u001b[1;31mAttributeError\u001b[0m                            Traceback (most recent call last)",
      "\u001b[1;32m~\\AppData\\Local\\Temp/ipykernel_720/163136709.py\u001b[0m in \u001b[0;36m<module>\u001b[1;34m\u001b[0m\n\u001b[1;32m----> 1\u001b[1;33m \u001b[0mclusters\u001b[0m \u001b[1;33m=\u001b[0m \u001b[0mkmeans\u001b[0m\u001b[1;33m.\u001b[0m\u001b[0mpredict\u001b[0m\u001b[1;33m(\u001b[0m\u001b[0mZ_scaled_df\u001b[0m\u001b[1;33m)\u001b[0m\u001b[1;33m\u001b[0m\u001b[1;33m\u001b[0m\u001b[0m\n\u001b[0m",
      "\u001b[1;32m~\\anaconda3\\envs\\Da_Env1\\lib\\site-packages\\sklearn\\cluster\\_kmeans.py\u001b[0m in \u001b[0;36mpredict\u001b[1;34m(self, X, sample_weight)\u001b[0m\n\u001b[0;32m   1159\u001b[0m \u001b[1;33m\u001b[0m\u001b[0m\n\u001b[0;32m   1160\u001b[0m         return _labels_inertia(X, sample_weight, x_squared_norms,\n\u001b[1;32m-> 1161\u001b[1;33m                                self.cluster_centers_, self._n_threads)[0]\n\u001b[0m\u001b[0;32m   1162\u001b[0m \u001b[1;33m\u001b[0m\u001b[0m\n\u001b[0;32m   1163\u001b[0m     \u001b[1;32mdef\u001b[0m \u001b[0mscore\u001b[0m\u001b[1;33m(\u001b[0m\u001b[0mself\u001b[0m\u001b[1;33m,\u001b[0m \u001b[0mX\u001b[0m\u001b[1;33m,\u001b[0m \u001b[0my\u001b[0m\u001b[1;33m=\u001b[0m\u001b[1;32mNone\u001b[0m\u001b[1;33m,\u001b[0m \u001b[0msample_weight\u001b[0m\u001b[1;33m=\u001b[0m\u001b[1;32mNone\u001b[0m\u001b[1;33m)\u001b[0m\u001b[1;33m:\u001b[0m\u001b[1;33m\u001b[0m\u001b[1;33m\u001b[0m\u001b[0m\n",
      "\u001b[1;31mAttributeError\u001b[0m: 'KMeans' object has no attribute 'cluster_centers_'"
     ]
    }
   ],
   "source": [
    "clusters = kmeans.predict(Z_scaled_df)"
   ]
  },
  {
   "cell_type": "code",
   "execution_count": 78,
   "id": "4f8f5006",
   "metadata": {},
   "outputs": [
    {
     "ename": "NameError",
     "evalue": "name 'kmeans' is not defined",
     "output_type": "error",
     "traceback": [
      "\u001b[1;31m---------------------------------------------------------------------------\u001b[0m",
      "\u001b[1;31mNameError\u001b[0m                                 Traceback (most recent call last)",
      "\u001b[1;32m~\\AppData\\Local\\Temp/ipykernel_720/2214079569.py\u001b[0m in \u001b[0;36m<module>\u001b[1;34m\u001b[0m\n\u001b[1;32m----> 1\u001b[1;33m \u001b[0mlabels\u001b[0m \u001b[1;33m=\u001b[0m \u001b[0mkmeans\u001b[0m\u001b[1;33m.\u001b[0m\u001b[0mpredict\u001b[0m\u001b[1;33m(\u001b[0m\u001b[0mX_scaled_df\u001b[0m\u001b[1;33m)\u001b[0m\u001b[1;33m\u001b[0m\u001b[1;33m\u001b[0m\u001b[0m\n\u001b[0m",
      "\u001b[1;31mNameError\u001b[0m: name 'kmeans' is not defined"
     ]
    }
   ],
   "source": [
    "labels = kmeans.predict(Z_scaled_df)"
   ]
  },
  {
   "cell_type": "markdown",
   "id": "2f4f1028",
   "metadata": {},
   "source": [
    "# Create the recommender function"
   ]
  },
  {
   "cell_type": "code",
   "execution_count": 72,
   "id": "933e38eb",
   "metadata": {},
   "outputs": [],
   "source": [
    "choice=[\"is a great choice!\",\" is amazing!\",\"is cool!\"]\n",
    "user=\"\"\n",
    "\n",
    "def user_selection():\n",
    "    user=input(\"Please enter the title of a hot song: \")\n",
    "    if user in df.values:\n",
    "        print(user,random.choice(choice),\"You might like this one too:\",random.choice(df[\"titles\"]))\n",
    "  \n",
    "    else:\n",
    "        song = sp.search(q=\"user\", limit=1)\n",
    "        features=sp.audio_features(song[\"tracks\"][\"items\"][0][\"uri\"])[0]\n",
    "        \n",
    "        print (features)\n",
    "       \n",
    "       \n"
   ]
  },
  {
   "cell_type": "code",
   "execution_count": 74,
   "id": "39326386",
   "metadata": {},
   "outputs": [
    {
     "name": "stdout",
     "output_type": "stream",
     "text": [
      "Please enter the title of a hot song: hello\n",
      "{'danceability': 0.724, 'energy': 0.863, 'key': 0, 'loudness': -3.409, 'mode': 1, 'speechiness': 0.212, 'acousticness': 0.12, 'instrumentalness': 7.01e-06, 'liveness': 0.0915, 'valence': 0.364, 'tempo': 98.002, 'type': 'audio_features', 'id': '3Hn6l4tN4C35zwQnWdZFcn', 'uri': 'spotify:track:3Hn6l4tN4C35zwQnWdZFcn', 'track_href': 'https://api.spotify.com/v1/tracks/3Hn6l4tN4C35zwQnWdZFcn', 'analysis_url': 'https://api.spotify.com/v1/audio-analysis/3Hn6l4tN4C35zwQnWdZFcn', 'duration_ms': 457959, 'time_signature': 4}\n"
     ]
    }
   ],
   "source": [
    "user_selection()"
   ]
  },
  {
   "cell_type": "code",
   "execution_count": null,
   "id": "f0ae55a8",
   "metadata": {},
   "outputs": [],
   "source": []
  }
 ],
 "metadata": {
  "kernelspec": {
   "display_name": "Python 3 (ipykernel)",
   "language": "python",
   "name": "python3"
  },
  "language_info": {
   "codemirror_mode": {
    "name": "ipython",
    "version": 3
   },
   "file_extension": ".py",
   "mimetype": "text/x-python",
   "name": "python",
   "nbconvert_exporter": "python",
   "pygments_lexer": "ipython3",
   "version": "3.9.6"
  },
  "toc": {
   "base_numbering": 1,
   "nav_menu": {},
   "number_sections": true,
   "sideBar": true,
   "skip_h1_title": false,
   "title_cell": "Table of Contents",
   "title_sidebar": "Contents",
   "toc_cell": false,
   "toc_position": {},
   "toc_section_display": true,
   "toc_window_display": false
  }
 },
 "nbformat": 4,
 "nbformat_minor": 5
}
